{
 "cells": [
  {
   "cell_type": "code",
   "execution_count": null,
   "id": "1e64bbf3-c312-490a-b68a-e50f849522a8",
   "metadata": {},
   "outputs": [],
   "source": []
  },
  {
   "cell_type": "markdown",
   "id": "7fe9f0d0-5369-4cb9-8cab-d9c9a16e21ee",
   "metadata": {
    "tags": []
   },
   "source": [
    "#### Bin - Analysis code \n",
    "Attempting to show proportion of avg salesm but results are different than recommendation so leaving out of project for clarity and simplicty\n",
    "but this is still good code that could be reused later so keeping in a seperate file. "
   ]
  },
  {
   "cell_type": "code",
   "execution_count": 169,
   "id": "918bac9e-6938-4fe4-92e5-e30007a54630",
   "metadata": {
    "tags": []
   },
   "outputs": [
    {
     "data": {
      "text/html": [
       "<div>\n",
       "<style scoped>\n",
       "    .dataframe tbody tr th:only-of-type {\n",
       "        vertical-align: middle;\n",
       "    }\n",
       "\n",
       "    .dataframe tbody tr th {\n",
       "        vertical-align: top;\n",
       "    }\n",
       "\n",
       "    .dataframe thead th {\n",
       "        text-align: right;\n",
       "    }\n",
       "</style>\n",
       "<table border=\"1\" class=\"dataframe\">\n",
       "  <thead>\n",
       "    <tr style=\"text-align: right;\">\n",
       "      <th></th>\n",
       "      <th>Region_1</th>\n",
       "      <th>Region_2</th>\n",
       "      <th>Region_3</th>\n",
       "      <th>Channel_1</th>\n",
       "      <th>Channel_2</th>\n",
       "      <th>Fresh</th>\n",
       "      <th>Milk</th>\n",
       "      <th>Grocery</th>\n",
       "      <th>Frozen</th>\n",
       "      <th>Detergents_Paper</th>\n",
       "      <th>Delicassen</th>\n",
       "    </tr>\n",
       "    <tr>\n",
       "      <th>cluster</th>\n",
       "      <th></th>\n",
       "      <th></th>\n",
       "      <th></th>\n",
       "      <th></th>\n",
       "      <th></th>\n",
       "      <th></th>\n",
       "      <th></th>\n",
       "      <th></th>\n",
       "      <th></th>\n",
       "      <th></th>\n",
       "      <th></th>\n",
       "    </tr>\n",
       "  </thead>\n",
       "  <tbody>\n",
       "    <tr>\n",
       "      <th>0</th>\n",
       "      <td>19.0</td>\n",
       "      <td>16.0</td>\n",
       "      <td>78.0</td>\n",
       "      <td>107.0</td>\n",
       "      <td>6.0</td>\n",
       "      <td>9086.043032</td>\n",
       "      <td>6224.397123</td>\n",
       "      <td>7742.364824</td>\n",
       "      <td>7807.058176</td>\n",
       "      <td>6121.386414</td>\n",
       "      <td>7075.804574</td>\n",
       "    </tr>\n",
       "    <tr>\n",
       "      <th>1</th>\n",
       "      <td>7.0</td>\n",
       "      <td>7.0</td>\n",
       "      <td>49.0</td>\n",
       "      <td>23.0</td>\n",
       "      <td>40.0</td>\n",
       "      <td>3458.290513</td>\n",
       "      <td>4043.928588</td>\n",
       "      <td>4976.427175</td>\n",
       "      <td>1929.702997</td>\n",
       "      <td>4726.306633</td>\n",
       "      <td>2890.929220</td>\n",
       "    </tr>\n",
       "    <tr>\n",
       "      <th>2</th>\n",
       "      <td>29.0</td>\n",
       "      <td>13.0</td>\n",
       "      <td>104.0</td>\n",
       "      <td>145.0</td>\n",
       "      <td>1.0</td>\n",
       "      <td>10565.322068</td>\n",
       "      <td>6539.967439</td>\n",
       "      <td>9027.177626</td>\n",
       "      <td>7184.957864</td>\n",
       "      <td>6289.962399</td>\n",
       "      <td>7742.788669</td>\n",
       "    </tr>\n",
       "    <tr>\n",
       "      <th>3</th>\n",
       "      <td>22.0</td>\n",
       "      <td>11.0</td>\n",
       "      <td>85.0</td>\n",
       "      <td>23.0</td>\n",
       "      <td>95.0</td>\n",
       "      <td>8783.719122</td>\n",
       "      <td>8339.171526</td>\n",
       "      <td>9500.843040</td>\n",
       "      <td>6114.958433</td>\n",
       "      <td>9152.640301</td>\n",
       "      <td>7595.051485</td>\n",
       "    </tr>\n",
       "  </tbody>\n",
       "</table>\n",
       "</div>"
      ],
      "text/plain": [
       "         Region_1  Region_2  Region_3  Channel_1  Channel_2         Fresh  \\\n",
       "cluster                                                                     \n",
       "0            19.0      16.0      78.0      107.0        6.0   9086.043032   \n",
       "1             7.0       7.0      49.0       23.0       40.0   3458.290513   \n",
       "2            29.0      13.0     104.0      145.0        1.0  10565.322068   \n",
       "3            22.0      11.0      85.0       23.0       95.0   8783.719122   \n",
       "\n",
       "                Milk      Grocery       Frozen  Detergents_Paper   Delicassen  \n",
       "cluster                                                                        \n",
       "0        6224.397123  7742.364824  7807.058176       6121.386414  7075.804574  \n",
       "1        4043.928588  4976.427175  1929.702997       4726.306633  2890.929220  \n",
       "2        6539.967439  9027.177626  7184.957864       6289.962399  7742.788669  \n",
       "3        8339.171526  9500.843040  6114.958433       9152.640301  7595.051485  "
      ]
     },
     "execution_count": 169,
     "metadata": {},
     "output_type": "execute_result"
    }
   ],
   "source": [
    "# average of each feature by cluster, using clean/scaled data\n",
    "data_clean['cluster'] = cluster\n",
    "data_clean.groupby('cluster').sum()"
   ]
  },
  {
   "cell_type": "code",
   "execution_count": 174,
   "id": "bae5fc3f-ceb2-462e-a4e1-bb8da6c63938",
   "metadata": {
    "tags": []
   },
   "outputs": [],
   "source": [
    "# add cluster as feature into original dataframe \n",
    "data['cluster'] = cluster\n",
    "\n",
    "cluster_analysis = data.groupby('cluster').sum()\n",
    "# drop channel and region, categorical features\n",
    "cluster_analysis = cluster_analysis.drop(columns = ['Channel', 'Region']) "
   ]
  },
  {
   "cell_type": "code",
   "execution_count": 175,
   "id": "b78a185a-45f5-4941-98dc-f2638dba1bd9",
   "metadata": {},
   "outputs": [
    {
     "data": {
      "text/html": [
       "<div>\n",
       "<style scoped>\n",
       "    .dataframe tbody tr th:only-of-type {\n",
       "        vertical-align: middle;\n",
       "    }\n",
       "\n",
       "    .dataframe tbody tr th {\n",
       "        vertical-align: top;\n",
       "    }\n",
       "\n",
       "    .dataframe thead th {\n",
       "        text-align: right;\n",
       "    }\n",
       "</style>\n",
       "<table border=\"1\" class=\"dataframe\">\n",
       "  <thead>\n",
       "    <tr style=\"text-align: right;\">\n",
       "      <th></th>\n",
       "      <th>Fresh</th>\n",
       "      <th>Milk</th>\n",
       "      <th>Grocery</th>\n",
       "      <th>Frozen</th>\n",
       "      <th>Detergents_Paper</th>\n",
       "      <th>Delicassen</th>\n",
       "    </tr>\n",
       "    <tr>\n",
       "      <th>cluster</th>\n",
       "      <th></th>\n",
       "      <th></th>\n",
       "      <th></th>\n",
       "      <th></th>\n",
       "      <th></th>\n",
       "      <th></th>\n",
       "    </tr>\n",
       "  </thead>\n",
       "  <tbody>\n",
       "    <tr>\n",
       "      <th>0</th>\n",
       "      <td>2230481</td>\n",
       "      <td>462353</td>\n",
       "      <td>510589</td>\n",
       "      <td>835168</td>\n",
       "      <td>80802</td>\n",
       "      <td>260563</td>\n",
       "    </tr>\n",
       "    <tr>\n",
       "      <th>1</th>\n",
       "      <td>183498</td>\n",
       "      <td>434867</td>\n",
       "      <td>841072</td>\n",
       "      <td>31086</td>\n",
       "      <td>373190</td>\n",
       "      <td>42783</td>\n",
       "    </tr>\n",
       "    <tr>\n",
       "      <th>2</th>\n",
       "      <td>1495437</td>\n",
       "      <td>293886</td>\n",
       "      <td>354025</td>\n",
       "      <td>248197</td>\n",
       "      <td>48145</td>\n",
       "      <td>114802</td>\n",
       "    </tr>\n",
       "    <tr>\n",
       "      <th>3</th>\n",
       "      <td>1370715</td>\n",
       "      <td>1359251</td>\n",
       "      <td>1792876</td>\n",
       "      <td>237199</td>\n",
       "      <td>765720</td>\n",
       "      <td>252795</td>\n",
       "    </tr>\n",
       "  </tbody>\n",
       "</table>\n",
       "</div>"
      ],
      "text/plain": [
       "           Fresh     Milk  Grocery  Frozen  Detergents_Paper  Delicassen\n",
       "cluster                                                                 \n",
       "0        2230481   462353   510589  835168             80802      260563\n",
       "1         183498   434867   841072   31086            373190       42783\n",
       "2        1495437   293886   354025  248197             48145      114802\n",
       "3        1370715  1359251  1792876  237199            765720      252795"
      ]
     },
     "execution_count": 175,
     "metadata": {},
     "output_type": "execute_result"
    }
   ],
   "source": [
    "cluster_analysis"
   ]
  },
  {
   "cell_type": "code",
   "execution_count": 176,
   "id": "86865105-608d-4ade-ab50-fb7a1343a52c",
   "metadata": {},
   "outputs": [
    {
     "data": {
      "text/html": [
       "<div>\n",
       "<style scoped>\n",
       "    .dataframe tbody tr th:only-of-type {\n",
       "        vertical-align: middle;\n",
       "    }\n",
       "\n",
       "    .dataframe tbody tr th {\n",
       "        vertical-align: top;\n",
       "    }\n",
       "\n",
       "    .dataframe thead th {\n",
       "        text-align: right;\n",
       "    }\n",
       "</style>\n",
       "<table border=\"1\" class=\"dataframe\">\n",
       "  <thead>\n",
       "    <tr style=\"text-align: right;\">\n",
       "      <th></th>\n",
       "      <th>Fresh</th>\n",
       "      <th>Milk</th>\n",
       "      <th>Grocery</th>\n",
       "      <th>Frozen</th>\n",
       "      <th>Detergents_Paper</th>\n",
       "      <th>Delicassen</th>\n",
       "    </tr>\n",
       "    <tr>\n",
       "      <th>cluster</th>\n",
       "      <th></th>\n",
       "      <th></th>\n",
       "      <th></th>\n",
       "      <th></th>\n",
       "      <th></th>\n",
       "      <th></th>\n",
       "    </tr>\n",
       "  </thead>\n",
       "  <tbody>\n",
       "    <tr>\n",
       "      <th>0</th>\n",
       "      <td>0.422429</td>\n",
       "      <td>0.181290</td>\n",
       "      <td>0.145943</td>\n",
       "      <td>0.617888</td>\n",
       "      <td>0.063731</td>\n",
       "      <td>0.388353</td>\n",
       "    </tr>\n",
       "    <tr>\n",
       "      <th>1</th>\n",
       "      <td>0.034753</td>\n",
       "      <td>0.170512</td>\n",
       "      <td>0.240405</td>\n",
       "      <td>0.022999</td>\n",
       "      <td>0.294347</td>\n",
       "      <td>0.063765</td>\n",
       "    </tr>\n",
       "    <tr>\n",
       "      <th>2</th>\n",
       "      <td>0.283220</td>\n",
       "      <td>0.115233</td>\n",
       "      <td>0.101192</td>\n",
       "      <td>0.183625</td>\n",
       "      <td>0.037974</td>\n",
       "      <td>0.171105</td>\n",
       "    </tr>\n",
       "    <tr>\n",
       "      <th>3</th>\n",
       "      <td>0.259599</td>\n",
       "      <td>0.532965</td>\n",
       "      <td>0.512461</td>\n",
       "      <td>0.175488</td>\n",
       "      <td>0.603948</td>\n",
       "      <td>0.376776</td>\n",
       "    </tr>\n",
       "  </tbody>\n",
       "</table>\n",
       "</div>"
      ],
      "text/plain": [
       "            Fresh      Milk   Grocery    Frozen  Detergents_Paper  Delicassen\n",
       "cluster                                                                      \n",
       "0        0.422429  0.181290  0.145943  0.617888          0.063731    0.388353\n",
       "1        0.034753  0.170512  0.240405  0.022999          0.294347    0.063765\n",
       "2        0.283220  0.115233  0.101192  0.183625          0.037974    0.171105\n",
       "3        0.259599  0.532965  0.512461  0.175488          0.603948    0.376776"
      ]
     },
     "execution_count": 176,
     "metadata": {},
     "output_type": "execute_result"
    }
   ],
   "source": [
    "cluster_prop = cluster_analysis / cluster_analysis.sum()\n",
    "cluster_prop"
   ]
  },
  {
   "cell_type": "code",
   "execution_count": 177,
   "id": "72a2edd9-8eec-410c-886d-9e73f21bf00e",
   "metadata": {
    "tags": []
   },
   "outputs": [
    {
     "data": {
      "text/plain": [
       "Text(0.5, 1.0, 'Avg Sales by Cluster')"
      ]
     },
     "execution_count": 177,
     "metadata": {},
     "output_type": "execute_result"
    },
    {
     "data": {
      "text/plain": [
       "<Figure size 1400x800 with 0 Axes>"
      ]
     },
     "metadata": {},
     "output_type": "display_data"
    },
    {
     "data": {
      "image/png": "[encoded data removed]",
      "text/plain": [
       "<Figure size 640x480 with 1 Axes>"
      ]
     },
     "metadata": {},
     "output_type": "display_data"
    }
   ],
   "source": [
    "plt.figure(figsize=(14 ,8))\n",
    "cluster_prop.T.plot(kind = 'bar', stacked=True)\n",
    "plt.ylabel('Proportion')\n",
    "plt.xlabel('Category')\n",
    "plt.title('Avg Sales by Cluster')\n",
    "# plt.show()"
   ]
  },
  {
   "cell_type": "code",
   "execution_count": 167,
   "id": "ee1a230f-0a57-486b-bc86-e954fa45700c",
   "metadata": {
    "tags": []
   },
   "outputs": [
    {
     "data": {
      "text/html": [
       "<div>\n",
       "<style scoped>\n",
       "    .dataframe tbody tr th:only-of-type {\n",
       "        vertical-align: middle;\n",
       "    }\n",
       "\n",
       "    .dataframe tbody tr th {\n",
       "        vertical-align: top;\n",
       "    }\n",
       "\n",
       "    .dataframe thead th {\n",
       "        text-align: right;\n",
       "    }\n",
       "</style>\n",
       "<table border=\"1\" class=\"dataframe\">\n",
       "  <thead>\n",
       "    <tr style=\"text-align: right;\">\n",
       "      <th></th>\n",
       "      <th>Fresh</th>\n",
       "      <th>Milk</th>\n",
       "      <th>Grocery</th>\n",
       "      <th>Frozen</th>\n",
       "      <th>Detergents_Paper</th>\n",
       "      <th>Delicassen</th>\n",
       "    </tr>\n",
       "    <tr>\n",
       "      <th>cluster</th>\n",
       "      <th></th>\n",
       "      <th></th>\n",
       "      <th></th>\n",
       "      <th></th>\n",
       "      <th></th>\n",
       "      <th></th>\n",
       "    </tr>\n",
       "  </thead>\n",
       "  <tbody>\n",
       "    <tr>\n",
       "      <th>0</th>\n",
       "      <td>1.0</td>\n",
       "      <td>3.0</td>\n",
       "      <td>3.0</td>\n",
       "      <td>1.0</td>\n",
       "      <td>3.0</td>\n",
       "      <td>1.0</td>\n",
       "    </tr>\n",
       "    <tr>\n",
       "      <th>1</th>\n",
       "      <td>4.0</td>\n",
       "      <td>2.0</td>\n",
       "      <td>2.0</td>\n",
       "      <td>4.0</td>\n",
       "      <td>2.0</td>\n",
       "      <td>4.0</td>\n",
       "    </tr>\n",
       "    <tr>\n",
       "      <th>2</th>\n",
       "      <td>3.0</td>\n",
       "      <td>4.0</td>\n",
       "      <td>4.0</td>\n",
       "      <td>3.0</td>\n",
       "      <td>4.0</td>\n",
       "      <td>3.0</td>\n",
       "    </tr>\n",
       "    <tr>\n",
       "      <th>3</th>\n",
       "      <td>2.0</td>\n",
       "      <td>1.0</td>\n",
       "      <td>1.0</td>\n",
       "      <td>2.0</td>\n",
       "      <td>1.0</td>\n",
       "      <td>2.0</td>\n",
       "    </tr>\n",
       "  </tbody>\n",
       "</table>\n",
       "</div>"
      ],
      "text/plain": [
       "         Fresh  Milk  Grocery  Frozen  Detergents_Paper  Delicassen\n",
       "cluster                                                            \n",
       "0          1.0   3.0      3.0     1.0               3.0         1.0\n",
       "1          4.0   2.0      2.0     4.0               2.0         4.0\n",
       "2          3.0   4.0      4.0     3.0               4.0         3.0\n",
       "3          2.0   1.0      1.0     2.0               1.0         2.0"
      ]
     },
     "execution_count": 167,
     "metadata": {},
     "output_type": "execute_result"
    }
   ],
   "source": [
    "ranks = cluster_analysis.rank(ascending=False)\n",
    "ranks"
   ]
  },
  {
   "cell_type": "markdown",
   "id": "d696e437-66d9-4135-a58c-8a9c952cf85c",
   "metadata": {
    "tags": []
   },
   "source": [
    "##### Proportion of Avg Sales by Cluster "
   ]
  },
  {
   "cell_type": "code",
   "execution_count": 1,
   "id": "3794ddcb-553f-4b22-845d-9dee1e6b418d",
   "metadata": {},
   "outputs": [
    {
     "ename": "SyntaxError",
     "evalue": "invalid syntax (1791456291.py, line 6)",
     "output_type": "error",
     "traceback": [
      "\u001b[0;36m  Cell \u001b[0;32mIn[1], line 6\u001b[0;36m\u001b[0m\n\u001b[0;31m    plt.show()/\u001b[0m\n\u001b[0m               ^\u001b[0m\n\u001b[0;31mSyntaxError\u001b[0m\u001b[0;31m:\u001b[0m invalid syntax\n"
     ]
    }
   ],
   "source": [
    "plt.figure(figsize=(14 ,8))\n",
    "cluster_prop.T.plot(kind = 'bar', stacked=True)\n",
    "plt.ylabel('Proportion')\n",
    "plt.xlabel('Category')\n",
    "plt.title('Avg Sales by Cluster')\n",
    "plt.show()/"
   ]
  },
  {
   "cell_type": "code",
   "execution_count": null,
   "id": "2506083f-7cb7-4ae4-8196-331eb947981c",
   "metadata": {},
   "outputs": [],
   "source": []
  }
 ],
 "metadata": {
  "kernelspec": {
   "display_name": "lhl_midterm_env",
   "language": "python",
   "name": "lhl_midterm_env"
  },
  "language_info": {
   "codemirror_mode": {
    "name": "ipython",
    "version": 3
   },
   "file_extension": ".py",
   "mimetype": "text/x-python",
   "name": "python",
   "nbconvert_exporter": "python",
   "pygments_lexer": "ipython3",
   "version": "3.10.8"
  }
 },
 "nbformat": 4,
 "nbformat_minor": 5
}
